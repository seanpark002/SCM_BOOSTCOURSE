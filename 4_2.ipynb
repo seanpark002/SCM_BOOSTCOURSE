{
  "nbformat": 4,
  "nbformat_minor": 0,
  "metadata": {
    "colab": {
      "provenance": [],
      "authorship_tag": "ABX9TyOCZW/6AgnQ14O843p321hx",
      "include_colab_link": true
    },
    "kernelspec": {
      "name": "python3",
      "display_name": "Python 3"
    },
    "language_info": {
      "name": "python"
    }
  },
  "cells": [
    {
      "cell_type": "markdown",
      "metadata": {
        "id": "view-in-github",
        "colab_type": "text"
      },
      "source": [
        "<a href=\"https://colab.research.google.com/github/seanpark002/SCM_BOOSTCOURSE/blob/main/4_2.ipynb\" target=\"_parent\"><img src=\"https://colab.research.google.com/assets/colab-badge.svg\" alt=\"Open In Colab\"/></a>"
      ]
    },
    {
      "cell_type": "markdown",
      "metadata": {
        "id": "-AORlu6OLyUe"
      },
      "source": [
        "## 조건문\n",
        "### if\n",
        "* https://docs.python.org/ko/3/tutorial/controlflow.html#if-statements"
      ]
    },
    {
      "cell_type": "code",
      "execution_count": null,
      "metadata": {
        "id": "cM3UxnI1LyUg",
        "colab": {
          "base_uri": "https://localhost:8080/"
        },
        "outputId": "72b07f5e-7fdc-468a-840e-f9f3caa8da06"
      },
      "outputs": [
        {
          "output_type": "stream",
          "name": "stdout",
          "text": [
            "Please enter an integer: -5\n",
            "음수\n"
          ]
        }
      ],
      "source": [
        "# 숫자를 입력받아 음수와 양수 여부를 출력합니다.\n",
        "x = int(input(\"Please enter an integer: \"))\n",
        "x\n",
        "if x > 0 :\n",
        "    print(\"양수\")\n",
        "elif x == 0 :\n",
        "    print(\"영\")\n",
        "else :\n",
        "    print(\"음수\")\n"
      ]
    },
    {
      "cell_type": "markdown",
      "metadata": {
        "id": "fiZ7QFPpLyUh"
      },
      "source": [
        "## 반복문\n",
        "### for\n",
        "* https://docs.python.org/ko/3/tutorial/controlflow.html#for-statements"
      ]
    },
    {
      "cell_type": "code",
      "execution_count": null,
      "metadata": {
        "id": "00sC6_0eLyUi",
        "colab": {
          "base_uri": "https://localhost:8080/"
        },
        "outputId": "9c14699e-5c66-4c32-c4f4-ec9f3bacd4b8"
      },
      "outputs": [
        {
          "output_type": "stream",
          "name": "stdout",
          "text": [
            "배추\n",
            "무\n",
            "토마토\n",
            "사과\n"
          ]
        }
      ],
      "source": [
        "# 리스트 안에 있는 값을 순회하며 반복문으로 출력해 보세요.\n",
        "words = ['배추', '무', '토마토', '사과']\n",
        "for w in words :\n",
        "    print(w)"
      ]
    },
    {
      "cell_type": "markdown",
      "metadata": {
        "id": "gigbSv0GLyUi"
      },
      "source": [
        "### range() 함수\n",
        "* https://docs.python.org/ko/3/tutorial/controlflow.html#the-range-function"
      ]
    },
    {
      "cell_type": "code",
      "execution_count": null,
      "metadata": {
        "id": "Awd94ci3LyUi",
        "colab": {
          "base_uri": "https://localhost:8080/"
        },
        "outputId": "149ede09-169a-47d2-87e9-e2ca71285513"
      },
      "outputs": [
        {
          "output_type": "execute_result",
          "data": {
            "text/plain": [
              "[1, 2, 3, 4, 5]"
            ]
          },
          "metadata": {},
          "execution_count": 5
        }
      ],
      "source": [
        "# range로 범위를 지정해 반복문을 수행할 수 있습니다.\n",
        "list(range(1,6))\n"
      ]
    },
    {
      "cell_type": "code",
      "execution_count": null,
      "metadata": {
        "id": "BPH9mydSLyUi",
        "colab": {
          "base_uri": "https://localhost:8080/"
        },
        "outputId": "5e58d842-bb86-4dd8-9900-590ac5ebb050"
      },
      "outputs": [
        {
          "output_type": "stream",
          "name": "stdout",
          "text": [
            "0\n",
            "1\n",
            "2\n",
            "3\n",
            "4\n"
          ]
        }
      ],
      "source": [
        "# 리스트를 변수로 받아 순회할 수도 있지만 리스트의 길이만큼 range 값을 생성하여 순회할 수도 있습니다.\n",
        "a = ['Mary', 'had', 'a', 'little', 'lamb']\n",
        "for i in range(len(a)):\n",
        "    print(i)\n"
      ]
    },
    {
      "cell_type": "code",
      "execution_count": null,
      "metadata": {
        "id": "Il0TGFOgLyUj",
        "colab": {
          "base_uri": "https://localhost:8080/"
        },
        "outputId": "23238655-9d5f-4883-84d6-52ce26f9966d"
      },
      "outputs": [
        {
          "output_type": "stream",
          "name": "stdout",
          "text": [
            "0 Mary\n",
            "1 had\n",
            "2 a\n",
            "3 little\n",
            "4 lamb\n"
          ]
        }
      ],
      "source": [
        "# enumerate 를 사용하면 인덱스 번호와 값을 함께 가져올 수 있습니다.\n",
        "for i, val in enumerate(a):\n",
        "    print(i, val)"
      ]
    },
    {
      "cell_type": "markdown",
      "metadata": {
        "id": "k8Ub6E5DLyUj"
      },
      "source": [
        "### range 응용"
      ]
    },
    {
      "cell_type": "code",
      "execution_count": null,
      "metadata": {
        "id": "tLVbX9U6LyUj",
        "colab": {
          "base_uri": "https://localhost:8080/"
        },
        "outputId": "45ce42b2-0fbc-492f-ab53-2ac600856646"
      },
      "outputs": [
        {
          "output_type": "execute_result",
          "data": {
            "text/plain": [
              "[0, 1, 2, 3]"
            ]
          },
          "metadata": {},
          "execution_count": 11
        }
      ],
      "source": [
        "# 합계 구하기\n",
        "# 0 + 1 + 2 + 3 를 range와 sum을 사용해 구합니다.\n",
        "list(range(4))\n"
      ]
    },
    {
      "cell_type": "code",
      "execution_count": null,
      "metadata": {
        "id": "HnhagEKgLyUj",
        "colab": {
          "base_uri": "https://localhost:8080/"
        },
        "outputId": "bd8852ca-2271-4b35-bbfe-fc0c77f1bc34"
      },
      "outputs": [
        {
          "output_type": "execute_result",
          "data": {
            "text/plain": [
              "6"
            ]
          },
          "metadata": {},
          "execution_count": 12
        }
      ],
      "source": [
        "# 리스트로 만들기\n",
        "# list를 사용해 [0, 1, 2, 3] 리스트를 생성합니다.\n",
        "sum(range(4))"
      ]
    },
    {
      "cell_type": "markdown",
      "metadata": {
        "id": "hC4yBf-tLyUj"
      },
      "source": [
        "### 조건문과 반복문 함께 사용하기"
      ]
    },
    {
      "cell_type": "code",
      "execution_count": null,
      "metadata": {
        "id": "2kPJOFDZLyUk",
        "colab": {
          "base_uri": "https://localhost:8080/"
        },
        "outputId": "aa6d0631-f77b-4bad-e91e-b1b16d884d67"
      },
      "outputs": [
        {
          "output_type": "stream",
          "name": "stdout",
          "text": [
            "홀수\n",
            "짝수\n",
            "홀수\n",
            "짝수\n",
            "홀수\n",
            "짝수\n",
            "홀수\n",
            "짝수\n",
            "홀수\n",
            "짝수\n"
          ]
        }
      ],
      "source": [
        "# range로 값을 순회하며 짝수일 때는 \"짝수\"를 홀수일 때는 \"홀수\"를 출력하게 합니다.\n",
        "for i in range(1,11) :\n",
        "    if i % 2 == 0:\n",
        "        print(\"짝수\")\n",
        "    else:\n",
        "        print(\"홀수\")"
      ]
    },
    {
      "cell_type": "markdown",
      "metadata": {
        "id": "lqKK1qExLyUk"
      },
      "source": [
        "### While 문\n",
        "* 조건문이 참인 동안 순회하며 실행되기 때문에 특정 조건까지 반복문을 수행하고자 할때 사용합니다.\n",
        "* 예를 들어 특정 웹페이지를 순회한다면 내용이 없을 때까지 순회하라는 반복문을 구현할 수 있습니다."
      ]
    },
    {
      "cell_type": "code",
      "execution_count": null,
      "metadata": {
        "id": "P4zlfcp9LyUk",
        "colab": {
          "base_uri": "https://localhost:8080/"
        },
        "outputId": "1c898686-cef3-45ba-e7ed-de8efa89235d"
      },
      "outputs": [
        {
          "output_type": "stream",
          "name": "stdout",
          "text": [
            "1\n",
            "2\n",
            "3\n",
            "4\n",
            "5\n",
            "6\n",
            "7\n",
            "8\n",
            "9\n",
            "10\n"
          ]
        }
      ],
      "source": [
        "# 변수의 초깃값을 부여하고 특정 변수값이 되면 종료하도록 합니다.\n",
        "변수 = 0\n",
        "while True:\n",
        "    변수 = 변수 + 1\n",
        "    print(변수)\n",
        "    if 변수 >= 10:\n",
        "        break\n"
      ]
    },
    {
      "cell_type": "markdown",
      "metadata": {
        "id": "JAEYMWVtLyUk"
      },
      "source": [
        "## 함수\n",
        "* https://docs.python.org/ko/3/tutorial/controlflow.html#defining-functions"
      ]
    },
    {
      "cell_type": "code",
      "execution_count": null,
      "metadata": {
        "id": "XhS3bPbVLyUk"
      },
      "outputs": [],
      "source": [
        "# 평균을 구하는 average 라는 이름을 갖는 함수를 만들어 보세요.\n",
        "\n",
        "def average():\n",
        "    avg = sum(data) / len(data)\n",
        "    return avg"
      ]
    },
    {
      "cell_type": "code",
      "execution_count": null,
      "metadata": {
        "id": "MTYs41ZgLyUk"
      },
      "outputs": [],
      "source": [
        "# 함수가 잘 만들어졌는지 확인합니다.\n",
        "\n",
        "data = range(1,11)\n",
        "average(data)"
      ]
    },
    {
      "cell_type": "markdown",
      "metadata": {
        "id": "x14QBSjzLyUk"
      },
      "source": [
        "### sum 함수 for 문으로 직접 구현해 보기"
      ]
    },
    {
      "cell_type": "code",
      "execution_count": null,
      "metadata": {
        "id": "orOWKa0wLyUk"
      },
      "outputs": [],
      "source": [
        "# 함수명은 total_sum 으로 매개변수는 num 이 되도록 구현합니다.\n",
        "def total_sum(num):\n",
        "    total = 0\n",
        "    for i in num :\n",
        "        total = total + i\n",
        "    return total"
      ]
    },
    {
      "cell_type": "code",
      "execution_count": null,
      "metadata": {
        "id": "voFFjlxQLyUk",
        "colab": {
          "base_uri": "https://localhost:8080/"
        },
        "outputId": "d12dfe2a-1ac9-45c3-bfd7-d0bc9202c26f"
      },
      "outputs": [
        {
          "output_type": "stream",
          "name": "stdout",
          "text": [
            "[1, 2, 3, 4, 5, 6, 7, 8, 9, 10]\n"
          ]
        },
        {
          "output_type": "execute_result",
          "data": {
            "text/plain": [
              "55"
            ]
          },
          "metadata": {},
          "execution_count": 21
        }
      ],
      "source": [
        "# 함수가 잘 만들어졌는지 확인합니다.\n",
        "num = range(1,11)\n",
        "print(list(num))\n",
        "total_sum(num)"
      ]
    }
  ]
}